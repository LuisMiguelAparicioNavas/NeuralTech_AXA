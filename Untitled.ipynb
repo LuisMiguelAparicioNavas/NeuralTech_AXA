{
 "cells": [
  {
   "cell_type": "code",
   "execution_count": 1,
   "id": "3c525b95-7381-4933-a9b6-472f018b895c",
   "metadata": {},
   "outputs": [
    {
     "name": "stdout",
     "output_type": "stream",
     "text": [
      "   ID     Nombre                Correo    Contraseña  Tipo\n",
      "0   1     Carlos     carlos1@gmail.com     carlos123     0\n",
      "1   2      María      maría2@gmail.com      maría123     1\n",
      "2   3       José       josé3@gmail.com       josé123     1\n",
      "3   4      Lucía      lucía4@gmail.com      lucía123     1\n",
      "4   5    Antonio    antonio5@gmail.com    antonio123     1\n",
      "5   6     Carmen     carmen6@gmail.com     carmen123     1\n",
      "6   7     Manuel     manuel7@gmail.com     manuel123     0\n",
      "7   8      Laura      laura8@gmail.com      laura123     1\n",
      "8   9  Francisco  francisco9@gmail.com  francisco123     0\n",
      "9  10      Elena     elena10@gmail.com      elena123     0\n"
     ]
    }
   ],
   "source": [
    "import pandas as pd\n",
    "import random\n",
    "\n",
    "# Lista de nombres españoles\n",
    "nombres_espanoles = [\"Carlos\", \"María\", \"José\", \"Lucía\", \"Antonio\", \"Carmen\", \"Manuel\", \"Laura\", \"Francisco\", \"Elena\"]\n",
    "\n",
    "# Crear datos de ejemplo\n",
    "usuarios = {\n",
    "    \"ID\": [i for i in range(1, 11)],  # ID del 1 al 10\n",
    "    \"Nombre\": [nombres_espanoles[i-1] for i in range(1, 11)],\n",
    "    \"Correo\": [nombres_espanoles[i-1].lower() + str(i) + \"@gmail.com\" for i in range(1, 11)],\n",
    "    \"Contraseña\": [nombres_espanoles[i-1].lower() + \"123\" for i in range(1, 11)],  # Contraseña basada en el nombre\n",
    "    \"Tipo\": [random.choice([0, 1]) for _ in range(10)]  # 0 para clientes, 1 para trabajadores\n",
    "}\n",
    "\n",
    "# Crear DataFrame\n",
    "df = pd.DataFrame(usuarios)\n",
    "\n",
    "# Mostrar el DataFrame\n",
    "print(df)\n",
    "\n",
    "# Guardar en un archivo CSV\n",
    "df.to_csv(\"usuarios.csv\", index=False)\n"
   ]
  },
  {
   "cell_type": "code",
   "execution_count": null,
   "id": "dbfadfd3-6a16-48e4-8eb2-ea17a223e347",
   "metadata": {},
   "outputs": [],
   "source": []
  }
 ],
 "metadata": {
  "kernelspec": {
   "display_name": "Python 3 (ipykernel)",
   "language": "python",
   "name": "python3"
  },
  "language_info": {
   "codemirror_mode": {
    "name": "ipython",
    "version": 3
   },
   "file_extension": ".py",
   "mimetype": "text/x-python",
   "name": "python",
   "nbconvert_exporter": "python",
   "pygments_lexer": "ipython3",
   "version": "3.12.7"
  }
 },
 "nbformat": 4,
 "nbformat_minor": 5
}
